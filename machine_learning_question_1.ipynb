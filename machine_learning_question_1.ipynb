{
 "cells": [
  {
   "cell_type": "code",
   "execution_count": 24,
   "metadata": {},
   "outputs": [],
   "source": [
    "import pandas as pd\n",
    "import re"
   ]
  },
  {
   "cell_type": "code",
   "execution_count": 3,
   "metadata": {},
   "outputs": [],
   "source": [
    "import numpy as np\n",
    "import seaborn as sns\n",
    "import matplotlib.pyplot as plt"
   ]
  },
  {
   "cell_type": "markdown",
   "metadata": {},
   "source": [
    "1. Imagine you have a dataset where you have different Instagram features like u sername , Caption , Hashtag , Followers , Time_Since_posted , and likes , now your task is to predict the number of likes and Time Since posted and the rest of the features are your input features. Now you have to build a model which can predict the number of likes and Time Since posted. "
   ]
  },
  {
   "cell_type": "code",
   "execution_count": 5,
   "metadata": {},
   "outputs": [],
   "source": [
    "data = pd.read_csv('C:\\\\Users\\\\PCLP\\\\OneDrive\\\\Desktop\\\\Assignment\\\\data\\\\instagram_reach.csv')"
   ]
  },
  {
   "cell_type": "code",
   "execution_count": 6,
   "metadata": {},
   "outputs": [
    {
     "data": {
      "text/html": [
       "<div>\n",
       "<style scoped>\n",
       "    .dataframe tbody tr th:only-of-type {\n",
       "        vertical-align: middle;\n",
       "    }\n",
       "\n",
       "    .dataframe tbody tr th {\n",
       "        vertical-align: top;\n",
       "    }\n",
       "\n",
       "    .dataframe thead th {\n",
       "        text-align: right;\n",
       "    }\n",
       "</style>\n",
       "<table border=\"1\" class=\"dataframe\">\n",
       "  <thead>\n",
       "    <tr style=\"text-align: right;\">\n",
       "      <th></th>\n",
       "      <th>Unnamed: 0</th>\n",
       "      <th>S.No</th>\n",
       "      <th>USERNAME</th>\n",
       "      <th>Caption</th>\n",
       "      <th>Followers</th>\n",
       "      <th>Hashtags</th>\n",
       "      <th>Time since posted</th>\n",
       "      <th>Likes</th>\n",
       "    </tr>\n",
       "  </thead>\n",
       "  <tbody>\n",
       "    <tr>\n",
       "      <th>0</th>\n",
       "      <td>0</td>\n",
       "      <td>1</td>\n",
       "      <td>mikequindazzi</td>\n",
       "      <td>Who are #DataScientist and what do they do? &gt;&gt;...</td>\n",
       "      <td>1600</td>\n",
       "      <td>#MachineLearning #AI #DataAnalytics #DataScien...</td>\n",
       "      <td>11 hours</td>\n",
       "      <td>139</td>\n",
       "    </tr>\n",
       "    <tr>\n",
       "      <th>1</th>\n",
       "      <td>1</td>\n",
       "      <td>2</td>\n",
       "      <td>drgorillapaints</td>\n",
       "      <td>We all know where it’s going. We just have to ...</td>\n",
       "      <td>880</td>\n",
       "      <td>#deck .#mac #macintosh#sayhello #apple #steve...</td>\n",
       "      <td>2 hours</td>\n",
       "      <td>23</td>\n",
       "    </tr>\n",
       "    <tr>\n",
       "      <th>2</th>\n",
       "      <td>2</td>\n",
       "      <td>3</td>\n",
       "      <td>aitrading_official</td>\n",
       "      <td>Alexander Barinov: 4 years as CFO in multinati...</td>\n",
       "      <td>255</td>\n",
       "      <td>#whoiswho #aitrading #ai #aitradingteam#instat...</td>\n",
       "      <td>2 hours</td>\n",
       "      <td>25</td>\n",
       "    </tr>\n",
       "    <tr>\n",
       "      <th>3</th>\n",
       "      <td>3</td>\n",
       "      <td>4</td>\n",
       "      <td>opensourcedworkplace</td>\n",
       "      <td>sfad</td>\n",
       "      <td>340</td>\n",
       "      <td>#iot #cre#workplace #CDO #bigdata #technology#...</td>\n",
       "      <td>3 hours</td>\n",
       "      <td>49</td>\n",
       "    </tr>\n",
       "    <tr>\n",
       "      <th>4</th>\n",
       "      <td>4</td>\n",
       "      <td>5</td>\n",
       "      <td>crea.vision</td>\n",
       "      <td>Ever missed a call while your phone was chargi...</td>\n",
       "      <td>304</td>\n",
       "      <td>#instamachinelearning #instabigdata#instamarke...</td>\n",
       "      <td>3 hours</td>\n",
       "      <td>30</td>\n",
       "    </tr>\n",
       "  </tbody>\n",
       "</table>\n",
       "</div>"
      ],
      "text/plain": [
       "   Unnamed: 0  S.No              USERNAME  \\\n",
       "0           0     1         mikequindazzi   \n",
       "1           1     2       drgorillapaints   \n",
       "2           2     3    aitrading_official   \n",
       "3           3     4  opensourcedworkplace   \n",
       "4           4     5           crea.vision   \n",
       "\n",
       "                                             Caption  Followers  \\\n",
       "0  Who are #DataScientist and what do they do? >>...       1600   \n",
       "1  We all know where it’s going. We just have to ...        880   \n",
       "2  Alexander Barinov: 4 years as CFO in multinati...        255   \n",
       "3                                               sfad        340   \n",
       "4  Ever missed a call while your phone was chargi...        304   \n",
       "\n",
       "                                            Hashtags Time since posted  Likes  \n",
       "0  #MachineLearning #AI #DataAnalytics #DataScien...          11 hours    139  \n",
       "1   #deck .#mac #macintosh#sayhello #apple #steve...           2 hours     23  \n",
       "2  #whoiswho #aitrading #ai #aitradingteam#instat...           2 hours     25  \n",
       "3  #iot #cre#workplace #CDO #bigdata #technology#...           3 hours     49  \n",
       "4  #instamachinelearning #instabigdata#instamarke...           3 hours     30  "
      ]
     },
     "execution_count": 6,
     "metadata": {},
     "output_type": "execute_result"
    }
   ],
   "source": [
    "data.head()"
   ]
  },
  {
   "cell_type": "code",
   "execution_count": 10,
   "metadata": {},
   "outputs": [],
   "source": [
    "data.drop(columns='Unnamed: 0',axis=1,inplace=True)"
   ]
  },
  {
   "cell_type": "code",
   "execution_count": 11,
   "metadata": {},
   "outputs": [
    {
     "data": {
      "text/html": [
       "<div>\n",
       "<style scoped>\n",
       "    .dataframe tbody tr th:only-of-type {\n",
       "        vertical-align: middle;\n",
       "    }\n",
       "\n",
       "    .dataframe tbody tr th {\n",
       "        vertical-align: top;\n",
       "    }\n",
       "\n",
       "    .dataframe thead th {\n",
       "        text-align: right;\n",
       "    }\n",
       "</style>\n",
       "<table border=\"1\" class=\"dataframe\">\n",
       "  <thead>\n",
       "    <tr style=\"text-align: right;\">\n",
       "      <th></th>\n",
       "      <th>S.No</th>\n",
       "      <th>USERNAME</th>\n",
       "      <th>Caption</th>\n",
       "      <th>Followers</th>\n",
       "      <th>Hashtags</th>\n",
       "      <th>Time since posted</th>\n",
       "      <th>Likes</th>\n",
       "    </tr>\n",
       "  </thead>\n",
       "  <tbody>\n",
       "    <tr>\n",
       "      <th>0</th>\n",
       "      <td>1</td>\n",
       "      <td>mikequindazzi</td>\n",
       "      <td>Who are #DataScientist and what do they do? &gt;&gt;...</td>\n",
       "      <td>1600</td>\n",
       "      <td>#MachineLearning #AI #DataAnalytics #DataScien...</td>\n",
       "      <td>11 hours</td>\n",
       "      <td>139</td>\n",
       "    </tr>\n",
       "    <tr>\n",
       "      <th>1</th>\n",
       "      <td>2</td>\n",
       "      <td>drgorillapaints</td>\n",
       "      <td>We all know where it’s going. We just have to ...</td>\n",
       "      <td>880</td>\n",
       "      <td>#deck .#mac #macintosh#sayhello #apple #steve...</td>\n",
       "      <td>2 hours</td>\n",
       "      <td>23</td>\n",
       "    </tr>\n",
       "    <tr>\n",
       "      <th>2</th>\n",
       "      <td>3</td>\n",
       "      <td>aitrading_official</td>\n",
       "      <td>Alexander Barinov: 4 years as CFO in multinati...</td>\n",
       "      <td>255</td>\n",
       "      <td>#whoiswho #aitrading #ai #aitradingteam#instat...</td>\n",
       "      <td>2 hours</td>\n",
       "      <td>25</td>\n",
       "    </tr>\n",
       "    <tr>\n",
       "      <th>3</th>\n",
       "      <td>4</td>\n",
       "      <td>opensourcedworkplace</td>\n",
       "      <td>sfad</td>\n",
       "      <td>340</td>\n",
       "      <td>#iot #cre#workplace #CDO #bigdata #technology#...</td>\n",
       "      <td>3 hours</td>\n",
       "      <td>49</td>\n",
       "    </tr>\n",
       "    <tr>\n",
       "      <th>4</th>\n",
       "      <td>5</td>\n",
       "      <td>crea.vision</td>\n",
       "      <td>Ever missed a call while your phone was chargi...</td>\n",
       "      <td>304</td>\n",
       "      <td>#instamachinelearning #instabigdata#instamarke...</td>\n",
       "      <td>3 hours</td>\n",
       "      <td>30</td>\n",
       "    </tr>\n",
       "    <tr>\n",
       "      <th>...</th>\n",
       "      <td>...</td>\n",
       "      <td>...</td>\n",
       "      <td>...</td>\n",
       "      <td>...</td>\n",
       "      <td>...</td>\n",
       "      <td>...</td>\n",
       "      <td>...</td>\n",
       "    </tr>\n",
       "    <tr>\n",
       "      <th>95</th>\n",
       "      <td>19</td>\n",
       "      <td>michaelgarza__</td>\n",
       "      <td>328 S. Wetherly Drive, Beverly Hills, CA 90212...</td>\n",
       "      <td>614</td>\n",
       "      <td>#beverlyhills #realestate#losangelesrealestate...</td>\n",
       "      <td>3 hours</td>\n",
       "      <td>31</td>\n",
       "    </tr>\n",
       "    <tr>\n",
       "      <th>96</th>\n",
       "      <td>21</td>\n",
       "      <td>dvlp_search</td>\n",
       "      <td>Credit @tristankappel To find more dvlp follow...</td>\n",
       "      <td>450</td>\n",
       "      <td>#workspace #work #developer#development #devel...</td>\n",
       "      <td>3 hours</td>\n",
       "      <td>42</td>\n",
       "    </tr>\n",
       "    <tr>\n",
       "      <th>97</th>\n",
       "      <td>22</td>\n",
       "      <td>ecom.space</td>\n",
       "      <td>We are coming up with the Best 21 Books that w...</td>\n",
       "      <td>182</td>\n",
       "      <td>#books #book #motivation #inspiration #life#bo...</td>\n",
       "      <td>3 hours</td>\n",
       "      <td>10</td>\n",
       "    </tr>\n",
       "    <tr>\n",
       "      <th>98</th>\n",
       "      <td>24</td>\n",
       "      <td>lb3enterprises</td>\n",
       "      <td>We’re only paid to move dirt once. It’s not ju...</td>\n",
       "      <td>2039</td>\n",
       "      <td>#heavyequipment #underconstruction#dozer #real...</td>\n",
       "      <td>3 hours</td>\n",
       "      <td>222</td>\n",
       "    </tr>\n",
       "    <tr>\n",
       "      <th>99</th>\n",
       "      <td>25</td>\n",
       "      <td>palmariusdev</td>\n",
       "      <td>Obtén tu tienda en línea ahora.</td>\n",
       "      <td>741</td>\n",
       "      <td>#marketing #programming#development #desarroll...</td>\n",
       "      <td>3 hours</td>\n",
       "      <td>109</td>\n",
       "    </tr>\n",
       "  </tbody>\n",
       "</table>\n",
       "<p>100 rows × 7 columns</p>\n",
       "</div>"
      ],
      "text/plain": [
       "    S.No              USERNAME  \\\n",
       "0      1         mikequindazzi   \n",
       "1      2       drgorillapaints   \n",
       "2      3    aitrading_official   \n",
       "3      4  opensourcedworkplace   \n",
       "4      5           crea.vision   \n",
       "..   ...                   ...   \n",
       "95    19        michaelgarza__   \n",
       "96    21           dvlp_search   \n",
       "97    22            ecom.space   \n",
       "98    24        lb3enterprises   \n",
       "99    25          palmariusdev   \n",
       "\n",
       "                                              Caption  Followers  \\\n",
       "0   Who are #DataScientist and what do they do? >>...       1600   \n",
       "1   We all know where it’s going. We just have to ...        880   \n",
       "2   Alexander Barinov: 4 years as CFO in multinati...        255   \n",
       "3                                                sfad        340   \n",
       "4   Ever missed a call while your phone was chargi...        304   \n",
       "..                                                ...        ...   \n",
       "95  328 S. Wetherly Drive, Beverly Hills, CA 90212...        614   \n",
       "96  Credit @tristankappel To find more dvlp follow...        450   \n",
       "97  We are coming up with the Best 21 Books that w...        182   \n",
       "98  We’re only paid to move dirt once. It’s not ju...       2039   \n",
       "99                    Obtén tu tienda en línea ahora.        741   \n",
       "\n",
       "                                             Hashtags Time since posted  Likes  \n",
       "0   #MachineLearning #AI #DataAnalytics #DataScien...          11 hours    139  \n",
       "1    #deck .#mac #macintosh#sayhello #apple #steve...           2 hours     23  \n",
       "2   #whoiswho #aitrading #ai #aitradingteam#instat...           2 hours     25  \n",
       "3   #iot #cre#workplace #CDO #bigdata #technology#...           3 hours     49  \n",
       "4   #instamachinelearning #instabigdata#instamarke...           3 hours     30  \n",
       "..                                                ...               ...    ...  \n",
       "95  #beverlyhills #realestate#losangelesrealestate...           3 hours     31  \n",
       "96  #workspace #work #developer#development #devel...           3 hours     42  \n",
       "97  #books #book #motivation #inspiration #life#bo...           3 hours     10  \n",
       "98  #heavyequipment #underconstruction#dozer #real...           3 hours    222  \n",
       "99  #marketing #programming#development #desarroll...           3 hours    109  \n",
       "\n",
       "[100 rows x 7 columns]"
      ]
     },
     "execution_count": 11,
     "metadata": {},
     "output_type": "execute_result"
    }
   ],
   "source": [
    "data"
   ]
  },
  {
   "cell_type": "code",
   "execution_count": 12,
   "metadata": {},
   "outputs": [
    {
     "ename": "SyntaxError",
     "evalue": "(unicode error) 'unicodeescape' codec can't decode bytes in position 302-303: truncated \\UXXXXXXXX escape (157960130.py, line 14)",
     "output_type": "error",
     "traceback": [
      "\u001b[1;36m  Cell \u001b[1;32mIn[12], line 14\u001b[1;36m\u001b[0m\n\u001b[1;33m    stop_words = stopwords.words('english')\"\"\"\u001b[0m\n\u001b[1;37m                                              ^\u001b[0m\n\u001b[1;31mSyntaxError\u001b[0m\u001b[1;31m:\u001b[0m (unicode error) 'unicodeescape' codec can't decode bytes in position 302-303: truncated \\UXXXXXXXX escape\n"
     ]
    }
   ],
   "source": [
    "\"\"\"import nltk\n",
    "from nltk.corpus import stopwords\n",
    "from nltk.tokenize import word_tokenize\n",
    "from nltk.stem import WordNetLemmatizer\n",
    "lem = WordNetLemmatizer()\n",
    "\n",
    "nltk.data.path.append(\"C:\\\\Users\\\\PCLP\\\\AppData\\\\Roaming\\\\nltk_data\")\n",
    "nltk.download('punkt')\n",
    "nltk.download('stopwords')\n",
    "nltk.download('wordnet')\n",
    "\n",
    "#C:\\Users\\PCLP\\AppData\\Roaming\\nltk_data\n",
    "\n",
    "stop_words = stopwords.words('english')\"\"\""
   ]
  },
  {
   "cell_type": "code",
   "execution_count": 13,
   "metadata": {},
   "outputs": [
    {
     "data": {
      "text/plain": [
       "(100, 7)"
      ]
     },
     "execution_count": 13,
     "metadata": {},
     "output_type": "execute_result"
    }
   ],
   "source": [
    "data.shape"
   ]
  },
  {
   "cell_type": "code",
   "execution_count": 14,
   "metadata": {},
   "outputs": [
    {
     "data": {
      "text/plain": [
       "S.No                 0\n",
       "USERNAME             0\n",
       "Caption              6\n",
       "Followers            0\n",
       "Hashtags             0\n",
       "Time since posted    0\n",
       "Likes                0\n",
       "dtype: int64"
      ]
     },
     "execution_count": 14,
     "metadata": {},
     "output_type": "execute_result"
    }
   ],
   "source": [
    "data.isna().sum()"
   ]
  },
  {
   "cell_type": "code",
   "execution_count": 17,
   "metadata": {},
   "outputs": [
    {
     "data": {
      "text/html": [
       "<div>\n",
       "<style scoped>\n",
       "    .dataframe tbody tr th:only-of-type {\n",
       "        vertical-align: middle;\n",
       "    }\n",
       "\n",
       "    .dataframe tbody tr th {\n",
       "        vertical-align: top;\n",
       "    }\n",
       "\n",
       "    .dataframe thead th {\n",
       "        text-align: right;\n",
       "    }\n",
       "</style>\n",
       "<table border=\"1\" class=\"dataframe\">\n",
       "  <thead>\n",
       "    <tr style=\"text-align: right;\">\n",
       "      <th></th>\n",
       "      <th>S.No</th>\n",
       "      <th>USERNAME</th>\n",
       "      <th>Caption</th>\n",
       "      <th>Followers</th>\n",
       "      <th>Hashtags</th>\n",
       "      <th>Time since posted</th>\n",
       "      <th>Likes</th>\n",
       "    </tr>\n",
       "  </thead>\n",
       "  <tbody>\n",
       "    <tr>\n",
       "      <th>52</th>\n",
       "      <td>21</td>\n",
       "      <td>opensourcedworkplace</td>\n",
       "      <td>NaN</td>\n",
       "      <td>348</td>\n",
       "      <td>#HR #workplace#officedesign #iot #bigdata #off...</td>\n",
       "      <td>4 hours</td>\n",
       "      <td>17</td>\n",
       "    </tr>\n",
       "    <tr>\n",
       "      <th>67</th>\n",
       "      <td>17</td>\n",
       "      <td>remi_ole</td>\n",
       "      <td>NaN</td>\n",
       "      <td>2175</td>\n",
       "      <td>#entrepreneur #entrepreneurial#entrepreneurmin...</td>\n",
       "      <td>2 hours</td>\n",
       "      <td>41</td>\n",
       "    </tr>\n",
       "    <tr>\n",
       "      <th>72</th>\n",
       "      <td>25</td>\n",
       "      <td>kamalalshehabi</td>\n",
       "      <td>NaN</td>\n",
       "      <td>955</td>\n",
       "      <td>#qoute #success#motivation #entrepreneur #insp...</td>\n",
       "      <td>2 hours</td>\n",
       "      <td>20</td>\n",
       "    </tr>\n",
       "    <tr>\n",
       "      <th>79</th>\n",
       "      <td>11</td>\n",
       "      <td>anandvanjape</td>\n",
       "      <td>NaN</td>\n",
       "      <td>460</td>\n",
       "      <td>#Designer #style #artist#brand #logo #monogram...</td>\n",
       "      <td>2 hours</td>\n",
       "      <td>29</td>\n",
       "    </tr>\n",
       "    <tr>\n",
       "      <th>85</th>\n",
       "      <td>23</td>\n",
       "      <td>monde_informatique</td>\n",
       "      <td>NaN</td>\n",
       "      <td>2455</td>\n",
       "      <td>monde_informatique#client #project#product #pr...</td>\n",
       "      <td>3 hours</td>\n",
       "      <td>24</td>\n",
       "    </tr>\n",
       "    <tr>\n",
       "      <th>89</th>\n",
       "      <td>12</td>\n",
       "      <td>inmemovement</td>\n",
       "      <td>NaN</td>\n",
       "      <td>1196</td>\n",
       "      <td>#INME #inmemovement#indianeedsmoreentrepreneur...</td>\n",
       "      <td>2 hours</td>\n",
       "      <td>16</td>\n",
       "    </tr>\n",
       "  </tbody>\n",
       "</table>\n",
       "</div>"
      ],
      "text/plain": [
       "    S.No              USERNAME Caption  Followers  \\\n",
       "52    21  opensourcedworkplace     NaN        348   \n",
       "67    17              remi_ole     NaN       2175   \n",
       "72    25        kamalalshehabi     NaN        955   \n",
       "79    11          anandvanjape     NaN        460   \n",
       "85    23    monde_informatique     NaN       2455   \n",
       "89    12          inmemovement     NaN       1196   \n",
       "\n",
       "                                             Hashtags Time since posted  Likes  \n",
       "52  #HR #workplace#officedesign #iot #bigdata #off...           4 hours     17  \n",
       "67  #entrepreneur #entrepreneurial#entrepreneurmin...           2 hours     41  \n",
       "72  #qoute #success#motivation #entrepreneur #insp...           2 hours     20  \n",
       "79  #Designer #style #artist#brand #logo #monogram...           2 hours     29  \n",
       "85  monde_informatique#client #project#product #pr...           3 hours     24  \n",
       "89  #INME #inmemovement#indianeedsmoreentrepreneur...           2 hours     16  "
      ]
     },
     "execution_count": 17,
     "metadata": {},
     "output_type": "execute_result"
    }
   ],
   "source": [
    "data[data['Caption'].isna()]"
   ]
  },
  {
   "cell_type": "code",
   "execution_count": 19,
   "metadata": {},
   "outputs": [
    {
     "data": {
      "text/html": [
       "<div>\n",
       "<style scoped>\n",
       "    .dataframe tbody tr th:only-of-type {\n",
       "        vertical-align: middle;\n",
       "    }\n",
       "\n",
       "    .dataframe tbody tr th {\n",
       "        vertical-align: top;\n",
       "    }\n",
       "\n",
       "    .dataframe thead th {\n",
       "        text-align: right;\n",
       "    }\n",
       "</style>\n",
       "<table border=\"1\" class=\"dataframe\">\n",
       "  <thead>\n",
       "    <tr style=\"text-align: right;\">\n",
       "      <th></th>\n",
       "      <th>S.No</th>\n",
       "      <th>USERNAME</th>\n",
       "      <th>Caption</th>\n",
       "      <th>Followers</th>\n",
       "      <th>Hashtags</th>\n",
       "      <th>Time since posted</th>\n",
       "      <th>Likes</th>\n",
       "    </tr>\n",
       "  </thead>\n",
       "  <tbody>\n",
       "  </tbody>\n",
       "</table>\n",
       "</div>"
      ],
      "text/plain": [
       "Empty DataFrame\n",
       "Columns: [S.No, USERNAME, Caption, Followers, Hashtags, Time since posted, Likes]\n",
       "Index: []"
      ]
     },
     "execution_count": 19,
     "metadata": {},
     "output_type": "execute_result"
    }
   ],
   "source": [
    "data[data.duplicated()]"
   ]
  },
  {
   "cell_type": "code",
   "execution_count": 22,
   "metadata": {},
   "outputs": [
    {
     "data": {
      "image/png": "[encoded data removed]",
      "text/plain": [
       "<Figure size 1000x800 with 1 Axes>"
      ]
     },
     "metadata": {},
     "output_type": "display_data"
    }
   ],
   "source": [
    "plt.figure(figsize=(10, 8))\n",
    "plt.style.use('fivethirtyeight')\n",
    "plt.title(\"Distribution of Impressions From Followers\")\n",
    "sns.histplot(data['Followers'],kde=True)\n",
    "plt.show()"
   ]
  },
  {
   "cell_type": "code",
   "execution_count": 23,
   "metadata": {},
   "outputs": [
    {
     "data": {
      "text/html": [
       "<div>\n",
       "<style scoped>\n",
       "    .dataframe tbody tr th:only-of-type {\n",
       "        vertical-align: middle;\n",
       "    }\n",
       "\n",
       "    .dataframe tbody tr th {\n",
       "        vertical-align: top;\n",
       "    }\n",
       "\n",
       "    .dataframe thead th {\n",
       "        text-align: right;\n",
       "    }\n",
       "</style>\n",
       "<table border=\"1\" class=\"dataframe\">\n",
       "  <thead>\n",
       "    <tr style=\"text-align: right;\">\n",
       "      <th></th>\n",
       "      <th>S.No</th>\n",
       "      <th>USERNAME</th>\n",
       "      <th>Caption</th>\n",
       "      <th>Followers</th>\n",
       "      <th>Hashtags</th>\n",
       "      <th>Time since posted</th>\n",
       "      <th>Likes</th>\n",
       "    </tr>\n",
       "  </thead>\n",
       "  <tbody>\n",
       "    <tr>\n",
       "      <th>0</th>\n",
       "      <td>1</td>\n",
       "      <td>mikequindazzi</td>\n",
       "      <td>Who are #DataScientist and what do they do? &gt;&gt;...</td>\n",
       "      <td>1600</td>\n",
       "      <td>#MachineLearning #AI #DataAnalytics #DataScien...</td>\n",
       "      <td>11 hours</td>\n",
       "      <td>139</td>\n",
       "    </tr>\n",
       "    <tr>\n",
       "      <th>1</th>\n",
       "      <td>2</td>\n",
       "      <td>drgorillapaints</td>\n",
       "      <td>We all know where it’s going. We just have to ...</td>\n",
       "      <td>880</td>\n",
       "      <td>#deck .#mac #macintosh#sayhello #apple #steve...</td>\n",
       "      <td>2 hours</td>\n",
       "      <td>23</td>\n",
       "    </tr>\n",
       "    <tr>\n",
       "      <th>2</th>\n",
       "      <td>3</td>\n",
       "      <td>aitrading_official</td>\n",
       "      <td>Alexander Barinov: 4 years as CFO in multinati...</td>\n",
       "      <td>255</td>\n",
       "      <td>#whoiswho #aitrading #ai #aitradingteam#instat...</td>\n",
       "      <td>2 hours</td>\n",
       "      <td>25</td>\n",
       "    </tr>\n",
       "    <tr>\n",
       "      <th>3</th>\n",
       "      <td>4</td>\n",
       "      <td>opensourcedworkplace</td>\n",
       "      <td>sfad</td>\n",
       "      <td>340</td>\n",
       "      <td>#iot #cre#workplace #CDO #bigdata #technology#...</td>\n",
       "      <td>3 hours</td>\n",
       "      <td>49</td>\n",
       "    </tr>\n",
       "    <tr>\n",
       "      <th>4</th>\n",
       "      <td>5</td>\n",
       "      <td>crea.vision</td>\n",
       "      <td>Ever missed a call while your phone was chargi...</td>\n",
       "      <td>304</td>\n",
       "      <td>#instamachinelearning #instabigdata#instamarke...</td>\n",
       "      <td>3 hours</td>\n",
       "      <td>30</td>\n",
       "    </tr>\n",
       "  </tbody>\n",
       "</table>\n",
       "</div>"
      ],
      "text/plain": [
       "   S.No              USERNAME  \\\n",
       "0     1         mikequindazzi   \n",
       "1     2       drgorillapaints   \n",
       "2     3    aitrading_official   \n",
       "3     4  opensourcedworkplace   \n",
       "4     5           crea.vision   \n",
       "\n",
       "                                             Caption  Followers  \\\n",
       "0  Who are #DataScientist and what do they do? >>...       1600   \n",
       "1  We all know where it’s going. We just have to ...        880   \n",
       "2  Alexander Barinov: 4 years as CFO in multinati...        255   \n",
       "3                                               sfad        340   \n",
       "4  Ever missed a call while your phone was chargi...        304   \n",
       "\n",
       "                                            Hashtags Time since posted  Likes  \n",
       "0  #MachineLearning #AI #DataAnalytics #DataScien...          11 hours    139  \n",
       "1   #deck .#mac #macintosh#sayhello #apple #steve...           2 hours     23  \n",
       "2  #whoiswho #aitrading #ai #aitradingteam#instat...           2 hours     25  \n",
       "3  #iot #cre#workplace #CDO #bigdata #technology#...           3 hours     49  \n",
       "4  #instamachinelearning #instabigdata#instamarke...           3 hours     30  "
      ]
     },
     "execution_count": 23,
     "metadata": {},
     "output_type": "execute_result"
    }
   ],
   "source": [
    "data.head()"
   ]
  },
  {
   "cell_type": "code",
   "execution_count": 25,
   "metadata": {},
   "outputs": [],
   "source": [
    "data['Time since posted'] = data['Time since posted'].map(lambda a: int(re.sub('hours', '', a)))"
   ]
  },
  {
   "cell_type": "code",
   "execution_count": 42,
   "metadata": {},
   "outputs": [],
   "source": [
    "def clean_hashtags(hashtag_string):\n",
    "    cleaned_hashtags = [hashtag.strip('#. ') for hashtag in hashtag_string.split()]\n",
    "    return ' '.join(cleaned_hashtags)\n",
    "\n",
    "data['Cleaned_Hashtags'] = data['Hashtags'].apply(clean_hashtags)"
   ]
  },
  {
   "cell_type": "code",
   "execution_count": 44,
   "metadata": {},
   "outputs": [
    {
     "data": {
      "text/html": [
       "<div>\n",
       "<style scoped>\n",
       "    .dataframe tbody tr th:only-of-type {\n",
       "        vertical-align: middle;\n",
       "    }\n",
       "\n",
       "    .dataframe tbody tr th {\n",
       "        vertical-align: top;\n",
       "    }\n",
       "\n",
       "    .dataframe thead th {\n",
       "        text-align: right;\n",
       "    }\n",
       "</style>\n",
       "<table border=\"1\" class=\"dataframe\">\n",
       "  <thead>\n",
       "    <tr style=\"text-align: right;\">\n",
       "      <th></th>\n",
       "      <th>S.No</th>\n",
       "      <th>USERNAME</th>\n",
       "      <th>Caption</th>\n",
       "      <th>Followers</th>\n",
       "      <th>Hashtags</th>\n",
       "      <th>Time since posted</th>\n",
       "      <th>Likes</th>\n",
       "      <th>Cleaned_Hashtags</th>\n",
       "    </tr>\n",
       "  </thead>\n",
       "  <tbody>\n",
       "    <tr>\n",
       "      <th>0</th>\n",
       "      <td>1</td>\n",
       "      <td>mikequindazzi</td>\n",
       "      <td>Who are #DataScientist and what do they do? &gt;&gt;...</td>\n",
       "      <td>1600</td>\n",
       "      <td>#MachineLearning #AI #DataAnalytics #DataScien...</td>\n",
       "      <td>11</td>\n",
       "      <td>139</td>\n",
       "      <td>MachineLearning AI DataAnalytics DataScienc Da...</td>\n",
       "    </tr>\n",
       "    <tr>\n",
       "      <th>1</th>\n",
       "      <td>2</td>\n",
       "      <td>drgorillapaints</td>\n",
       "      <td>We all know where it’s going. We just have to ...</td>\n",
       "      <td>880</td>\n",
       "      <td>#deck .#mac #macintosh#sayhello #apple #steve...</td>\n",
       "      <td>2</td>\n",
       "      <td>23</td>\n",
       "      <td>deck mac macintosh#sayhello apple stevejobs ai...</td>\n",
       "    </tr>\n",
       "    <tr>\n",
       "      <th>2</th>\n",
       "      <td>3</td>\n",
       "      <td>aitrading_official</td>\n",
       "      <td>Alexander Barinov: 4 years as CFO in multinati...</td>\n",
       "      <td>255</td>\n",
       "      <td>#whoiswho #aitrading #ai #aitradingteam#instat...</td>\n",
       "      <td>2</td>\n",
       "      <td>25</td>\n",
       "      <td>whoiswho aitrading ai aitradingteam#instateam ...</td>\n",
       "    </tr>\n",
       "    <tr>\n",
       "      <th>3</th>\n",
       "      <td>4</td>\n",
       "      <td>opensourcedworkplace</td>\n",
       "      <td>sfad</td>\n",
       "      <td>340</td>\n",
       "      <td>#iot #cre#workplace #CDO #bigdata #technology#...</td>\n",
       "      <td>3</td>\n",
       "      <td>49</td>\n",
       "      <td>iot cre#workplace CDO bigdata technology#tech ...</td>\n",
       "    </tr>\n",
       "    <tr>\n",
       "      <th>4</th>\n",
       "      <td>5</td>\n",
       "      <td>crea.vision</td>\n",
       "      <td>Ever missed a call while your phone was chargi...</td>\n",
       "      <td>304</td>\n",
       "      <td>#instamachinelearning #instabigdata#instamarke...</td>\n",
       "      <td>3</td>\n",
       "      <td>30</td>\n",
       "      <td>instamachinelearning instabigdata#instamarketi...</td>\n",
       "    </tr>\n",
       "  </tbody>\n",
       "</table>\n",
       "</div>"
      ],
      "text/plain": [
       "   S.No              USERNAME  \\\n",
       "0     1         mikequindazzi   \n",
       "1     2       drgorillapaints   \n",
       "2     3    aitrading_official   \n",
       "3     4  opensourcedworkplace   \n",
       "4     5           crea.vision   \n",
       "\n",
       "                                             Caption  Followers  \\\n",
       "0  Who are #DataScientist and what do they do? >>...       1600   \n",
       "1  We all know where it’s going. We just have to ...        880   \n",
       "2  Alexander Barinov: 4 years as CFO in multinati...        255   \n",
       "3                                               sfad        340   \n",
       "4  Ever missed a call while your phone was chargi...        304   \n",
       "\n",
       "                                            Hashtags  Time since posted  \\\n",
       "0  #MachineLearning #AI #DataAnalytics #DataScien...                 11   \n",
       "1   #deck .#mac #macintosh#sayhello #apple #steve...                  2   \n",
       "2  #whoiswho #aitrading #ai #aitradingteam#instat...                  2   \n",
       "3  #iot #cre#workplace #CDO #bigdata #technology#...                  3   \n",
       "4  #instamachinelearning #instabigdata#instamarke...                  3   \n",
       "\n",
       "   Likes                                   Cleaned_Hashtags  \n",
       "0    139  MachineLearning AI DataAnalytics DataScienc Da...  \n",
       "1     23  deck mac macintosh#sayhello apple stevejobs ai...  \n",
       "2     25  whoiswho aitrading ai aitradingteam#instateam ...  \n",
       "3     49  iot cre#workplace CDO bigdata technology#tech ...  \n",
       "4     30  instamachinelearning instabigdata#instamarketi...  "
      ]
     },
     "execution_count": 44,
     "metadata": {},
     "output_type": "execute_result"
    }
   ],
   "source": [
    "data.head()"
   ]
  },
  {
   "cell_type": "code",
   "execution_count": 52,
   "metadata": {},
   "outputs": [
    {
     "name": "stdout",
     "output_type": "stream",
     "text": [
      "['MachineLearning AI DataAnalytics DataScienc DataLake']\n",
      "['deck mac macintosh', 'sayhello apple stevejobs ai evolution', 'artificialintelligence machinelearning', 'terminator illbeback technology', 'computerevolution computerscience', 'sciencefiction', 'computersciencetosciencefiction', 'tomorrowstechnology vr ar robot', 'robots t2 businessdeck businessslides', 'illustration sketches drawing']\n",
      "['whoiswho aitrading ai aitradingteam', 'instateam instapeople ai trading', 'artificialintelligence crypto', 'cryptocurrency blockchain tradingforex', 'forex fiatmoney coins machinelearning', 'userexperience instamachinelearning', 'instabigdata instamarketing', 'artificialintelligence deeplearning', 'datascience industry marketing', 'bigdata datascience machinelearning', 'ml']\n",
      "['iot cre', 'workplace CDO bigdata technology', 'tech work computerscience blockchain', 'softwaredeveloper machinelearning', 'smartcity artificialintelligence', 'futureofwork opensource cybersecurity', 'ai softwareengineer engineering', 'smartcities developer autonomous', 'singularity webdeveloper', 'cryptocurrency programmers crypto', 'iiot robot']\n",
      "['instamachinelearning instabigdata', 'instamarketing artificialintelligence', 'industry deeplearning datascience', 'marketing machinelearning bigdata', 'artificialintelligence instadaily tech', 'software softwareengineer technology', 'crea.vision techy artificial artificiale', 'ipictureoftheday marketingdigital digital', 'live better enjoy']\n",
      "['edtech learning', 'educationtechnology tech learnnewskills onlinelearning teach study lifelonglearning bigdata chatbot digitalliteracy entrepreneurship entrepreneur startup startupaus studying entrepreneur machinelearning coach tech', 'techstartup blockchain videocourse analytics']\n",
      "['Tech virtualreality IoT Machinelearning']\n",
      "['datascientist creativetechnology', 'design artwork dataartwork dataart', 'innovation tech startup', 'machinelearning deeplearning IA data', 'bigdata modernart contemporaryart', 'painting datascience']\n",
      "['LTW London TechXLR8 Technology', 'AI ArtificialIntelligence MachineLearning', 'Data Future Ethics HumanRights', 'WomenInTech WomenInSTEM OurWorld', 'LondonTechWeek EthicalTech', 'EthicsAndAI']\n",
      "['[', 'Infographic] Wearable Sensors MachineLearning', 'IoT BigData DigitalTransformation', 'futureofwork marketing analytics', 'bigdata Cloud Blogging', 'ContentMarketing DigitalMarketing ht: BigData MachineLearning AI IoT', 'infograp']\n",
      "['artificialintelligence futurism', 'machinelearning marketing', 'b2cmarketing thetimes thedrum', 'hubspot leadgeneration']\n",
      "['WedenesdayWisdom IndustryInsights', 'GetSkilledGetHired reskill careergoals', 'DataScience MachineLearning', 'MeanStack WebDevelopment', 'careergrowth technology futuretrends', 'software startup GetSkilled GetHired', 'edWisor DreamJob']\n",
      "['webdevelopment coding programming', 'codinglife code 100daysofcode java', 'programmerhumor javascript html', 'cursosbarcelona berlin css', 'datascience stem workgoals', 'officegoals learning machinelearning', 'getitdone anotherday instagood', 'dataanalysis education motivation', 'barcelona careers careeradvice']\n",
      "['artificialintelligence ai', 'machinelearning', 'deeplearning algorithm algorithms cs', 'ml blockchain sopia', 'robots project', 'aiproject', 'tag', 'it', 'boats', 'artificialintelligenceai github data python R coding', 'programming coder programmer']\n",
      "['blockchaintechnology blockchains tech', 'technology IoT InternetOfThings', 'Bitcoin business businessintelligence', 'BI AI ArtificialIntelligence ML', 'MachineLearning infographic DL', 'DeepLearning data bigdata', 'datascience']\n",
      "['google Android', 'machinelearning womenwhocode', 'devfestdc gdg']\n",
      "['Eligible EligibleAPI HealthCare', 'HealthCareTech HealthIT engineering', 'Programming Code Software API', 'HIPAA AI MachineLearning', 'DeepLearning Tech StartupLife', 'DataScience security Compliance']\n",
      "['MxPartnerDay MLKit machinelearning', 'android google googleplay']\n",
      "['engineer machinelearning automotive', 'automation machinery engineering', 'engineers wbe careers jobs', 'technology robotics robots cnc ai', 'machines manufacturing wcw', 'puremichigan staffing']\n",
      "['newread whattoread summerreads', 'nowreading readingislife bookworm', 'booknerds writt writtorg wellread', 'bookreco bookrecommendations', 'whatareyoureading igbooks igreads', 'bookclub bookalicious classicliterature', 'classicbooks bestquotes quotes', 'goodreads bookaddict bookoftheday', 'quoteoftheday machinelearning', 'machines creativity art']\n",
      "['datascience data tech technology', 'future machinelearning ai', 'visualizations dataisbeautiful']\n",
      "['Artificial Intelligence AI MachineLearning DeepLearning Robotics BigData Dataviz Analytics SMM IoT Sensors Xotiv NLP datascience graph graphanalysis visualisation image analytics imageanalytics coder software business Development']\n",
      "['digitalmarketing machinelearning', 'entrepreneurship businessminded', 'fourthofjuly']\n",
      "['DeepLearning MachineLearning', 'ArtificialIntelligence IoT BigData', 'HealthTech IIoT Mobile Infographics smartphones AI']\n",
      "['data_enthusiast dataanalytics', 'datascientist datascience algorithm', 'deeplearning machinelearning ai', 'traditional learning neuralnetworks', 'aspiringdatascientist followyourownpath']\n",
      "['development react vue angular', 'software javascript html5 nodejs', 'wordpress teamtreehouse worldcode', 'freecodecamp css hustle', 'eduacteyourself machinelearning', 'codeuniverse codegang selftaught', '365daysofcode 100daysofcode', 'curryandcode webdev codelife', 'webapp']\n",
      "['Repost Javascript ReactJS Ruby GDPR Graduation Mobile', 'VueJS JQuery Developers Programmers JS Gift Dev ArtificialIntelligence MachineLearning Linux', 'Humour Humor Fintech API Sysadmin ML WomenInTech Ubuntu Security', 'IIOT Hackers TechHumor']\n",
      "['theminest miningrig gpumining', 'bitcoinmining bitcoin bitcoinmemes', 'cryptolife cryptomemes cryptomining', 'ethereum litecoin cryptonews altcoins', 'hodl hodlgang investinyourself', 'blockchain crypto miningfarm', 'ethereummining litecoinmining', 'bitcointrading bitcoinexchange bitcoins', 'coinbase']\n",
      "['Bitcoin Cryptocurrency', 'Ethereum stockmarket currencytrading', 'digitalmarketing litecoin Currency ico', 'token mining BitcoinExchange', 'Blockchain money community crypto', 'CryptoExchange fiat forex altcoin', 'stocks profit investor investment', 'trader', 'forextrader nyse broker forexnews', 'forexanalysis']\n",
      "['Bitcoin Cryptocurrency', 'Ethereum stockmarket currencytrading', 'digitalmarketing litecoin Currency ico', 'token mining BitcoinExchange', 'Blockchain money community crypto', 'CryptoExchange fiat forex altcoin', 'stocks profit investor investment', 'trader', 'forextrader nyse broker forexnews', 'forexanalysis']\n",
      "['nextmnl', 'groupm greenhousegroup eindhoven', 'effenaar Innovation marketingfestival', 'artificialintelligence voice', 'conversationalmarketing blockchain']\n",
      "['cosplay', 'gamerguy conceptart cryptocurrency', 'handdrawn digitalart rpg pcgamer', 'comingsoon videogames cryptogame', 'cyberpunk armor scifi dystopia', 'games blockchain instagamer', 'neondistrict degen themainspring']\n",
      "['sports football footy footballfans', 'footballplayer soccer soccerfans', 'soccerlife fifa fifa18 fifaworldcup', 'blockchain spottheball gametime', 'fifagame playtowin play eyeontheprize', 'tech technology']\n",
      "['cryptocrackhead', 'blockchain', 'cryptocurrency crypto decentralise', 'bitcoin ethereum ripple dash', 'bitcoincash monero eos cardano tron', 'fiat millionaire trading altcoins money', 'future biitcoinaire gains funny', 'currency coinbase freedom binance', 'virtual ai coins']\n",
      "['youtube applemusic itunes', 'soundcloud spinrilla spotify bigdata', 'blockchain dontbandwagonlater']\n",
      "['IOTA Wroclaw Blockchain']\n",
      "['blockchain ethereum']\n",
      "['любовь gm sme smenigeria profits', 'businessowners businessplan', 'entrepreneurship entrepreneur', 'blockchain crypto cointelegraph', 'bitcoinprice mining cryptocurrencies', 'bch bitcoins litecoin investment', 'investor stockmarket stocks getrich', 'makemoney makemoneyonline', 'mentorship mentoring xrp bitfinex', 'altcoins']\n",
      "['bitcoin litecoin blockchain', 'cryptocurrency ripple coins tech', 'litebiteu ethereum reddcoin verge Litebit']\n",
      "['MachineLearning artificialintelligence', 'AI IoT']\n",
      "['techtaster datagirl', 'womanintech technicalevangelist', 'technicalevangelism datascientist', 'datascience datagirl ai', 'artificialintelligence advancedanalytics', 'cognitiveservices faceAPI demo', 'everydaytechday womeninmicrosoft', 'womenintech luis azureML', 'cognitiveservices datainsights', 'microsoftpartner']\n",
      "['ai artificialintelligence']\n",
      "['artificialintelligence']\n",
      "['quote quotes quoteoftheday', 'quoteoftheday quotesoftheday', 'quoted quotedaily quotegram', 'quotesdaily quoteslife quotetoday', 'quotesofinstagram quotefortheday', 'quotesforyou artificial', 'artificialintelligence meme memes', 'funnymeme funnymemes memesdaily', 'inspiring funnyquote funnyquotes', 'funnypost funnypic ridiculous wtfisthis']\n",
      "['cebit18 cebit hannover cebit2018', 'ceyouinabit messehannover', 'hannovermesse artificialintelligence', 'künstlicheintelligenz informatik']\n",
      "['hannover cebit', 'digitalisierung entrancegmbh wuppertal', 'startup iot AI artificialintelligence']\n",
      "['AI machinelearning artificialintelligence careerservices studentlearning']\n",
      "['worldcode coding', 'python codeaholics rstudio codinglife', 'worldofprogrammers datascience', 'machinelearning dataviz data statistics', 'macbookpro peoplewhocode', 'codeismylife datavisualization', 'artificialintelligence digitalnomads', 'digitalnomad travel']\n",
      "['IoT CyberSecurity BigData', 'infosec DigitalTransformation AI', 'Security Healthcare mobile Analytics', 'tech innovation TechNews Defstar5', 'artificialintelligence Infographics', 'BigData CIO blockchain chatbots', 'startups robots robotics startup ml', 'machinelearning artificialintelligence']\n",
      "['machinelearning artificialintelligence', 'blockchain data datascience analytics', 'technology london hiring']\n",
      "['blockchain tech startups projetos', 'linux ethereum programmer', 'InternetdasCoisas smartcontract', 'internetofthings technology disruption', 'mobile nodemcu hyperledger chain', 'programming smartcontracts', 'hyperledgerfabric artificialintelligence', 'iot fintech industry40 cloud', 'mobilelegends drones', 'personaldevelopment healthy']\n",
      "['data bigdata datavisualization', 'datascience artificialintelligence']\n",
      "['HR workplace', 'officedesign iot bigdata office', 'facilitymanagement technology', 'realestate tech work futureofwork', 'computerscience officespace facility', 'smartcity artificialintelligence', 'opensource softwareengineer', 'workplacedesign smartcities', 'autonomous singularity iiot CEO', 'csuite employeeengagement', 'employeeexperience CHRO', 'businessowner']\n",
      "['AI machinelearning auto', 'realtors tech', 'fitness socialselling', 'artificialintelligence', 'local sanantonio', 'realestate socialmedia', 'business sa', 'generator car innovation', 'cardealers', 'entrepreneurs COO app', 'sales ML']\n",
      "['digitalart artedigital paris technology', 'data visualart exhibition multimedia', 'tecnologia lighting visualcontent', 'lavillete interactive science creativity', 'creatividad grandpalais', 'artistesandrobots artificialintelligence', 'inteligenciaartificial ai robots robotics', 'machine orlan ryojiikeda immersive', 'electronicarts perception hybrid']\n",
      "['artificialintelligence machinelearning', 'bigdata supercomputer science', 'astrophysics astronomy einstein', 'relativity theoryofrelativity georgiatech', 'computerscience blackhole universe', 'cosmos']\n",
      "['bitcoin ethereum BTC', 'fun Profit success business', 'motivation rich economy', 'cryptocurrency news fact news', 'quotes quote Google robot laugh', 'ArtificialIntelligence MachineLearning', 'DeepLearning AI Technology Robotics', 'News Facts Fact Startup Joke']\n",
      "['junkbot edukit superbots robotickits', 'arduino parents education', 'tipsforparents kids learn recycle code', 'design innovate invent steameducation', 'technology uae dubai robotics', 'buildyourownrobot diyrobot', 'trashtotreasure diy artificialintelligence', 'robotfromjunk stem']\n",
      "['livinginitaly tuscanyitaly', 'summerinitaly🇮🇹 startup startuplife', 'artificialintelligence algorithm', 'voicebiometrics myvoiceai']\n",
      "['DeepLearning MachineLearning', 'ArtificialIntelligence IoT BigData', 'HealthTech IIoT Mobile Infographics smartphones AI']\n",
      "['Innovation in Connectivity EdgeDevices', 'EnergyStorage EnergyDistribution DataAnalytics ArtificialIntelligence']\n",
      "['AI DUBAI artificialintelligence neuralnetworks datascience bots machinelearning naturallanguageprocessing dubai']\n",
      "['allblackeverything applewatch', 'applewatchseries3 38mm swarovski', 'pandora weekendvibes style fashion', 'tech startup']\n",
      "['Interplay EidMubarak EidulFitr Eid', 'Eidblessings EidBliss', 'EidSaeed Eid2018', 'DigitalMarketingAgency SocialMedia', 'digitalmarketing onlinemarketing', 'startup creativeagency growdigitally']\n",
      "['mentoring enterprenuership grind', 'hustle learn education startup', 'dreamwork successquotes build', 'empire startuplife businessowners', 'ambition dreams goals lifegoals', 'goforit nevergiveup sucessmindset', 'businesswoman businessman', 'businesslife enterpreneurlifestyle', 'goodlife motivated enterpreneurmindset', 'millionairemindset']\n",
      "['moneymaker startup entrepreneurlife', 'entrepreneurs entrepreneurlifestyle', 'entrepreneurship onlinemarketing', 'motivational millionairemindset', 'successful millionairelifestyle', 'businesswoman inspiredaily', 'businessman founder businessowner', 'youngentrepreneur startuplife igersperu', 'discoverperu sudamerica ig_peru_', 'experienceperu exploreperu focalmarked motivation tbt followme']\n",
      "['thebeautymindset', 'businessman', 'quoteoftheday businessowner', 'businesswoman success grind', 'motivation motivational lifestyle', 'happiness entrepreneurs', 'entrepreneurlife business working founder', 'startup money magazine moneymaker', 'startuplife successful passion inspiredaily', 'hardwork hardworkpaysoff desire']\n",
      "['entrepreneur entrepreneurial', 'entrepreneurmindset fametags', 'entrepreneurship entrepreneurslife', 'entrepreneurs entrepreneurquotes', 'entrepreneurlifestyle business', 'businessowner ceo boss top high', 'rich success hustle luxury millionaire', 'billionaire lifegoals motivational goals', 'grind ambition startup mindset', 'achive hardwork']\n",
      "['Entrepreneur', 'Business', 'Entrepreneurship', 'WontStop', 'Mindset', 'Success', 'Hustle', 'Freedom', 'BusinessOwner', 'OnlineBusiness', 'Coaching', 'Ambition', 'Inspire', 'ThinkBig', 'Startup', 'HardWork', 'Businessman', 'BeYourOwnBoss', 'SmallBusiness', 'Believe', 'Motivate', 'Mentor or mentoring', 'Givingback', 'InternetBusiness', 'Successe']\n",
      "['forex rich wealth millionaire invest', 'wallstreet business entrepreneurs', 'startup startups startuplife technology', 'tech digital computer gadget gadgets', 'geek geeks media newslol books', 'reading read entrepreneurship', 'businessman reader marketingdigital', 'goodreads seo']\n",
      "['weekend chill chilling Summer', 'founder startup smallbusiness smallbiz', 'contentmarketing consulting']\n",
      "['businesspassion', 'business toptags entrepreneurship', 'grind hustle learn education startup', 'success successquotes build', 'startuplife businessowners ambition', 'dream goals lifegoals goforit', 'nevergiveup successmindset', 'businessman businesswoman', 'businesslife entrepreneurlifestyle', 'goodlife entrepreneur motivated', 'businessowners motivation']\n",
      "['qoute success', 'motivation entrepreneur inspiration', 'startup follow read']\n",
      "['bitcoinsuperstar tonylocorriere', 'blockchain hodl hold market crypto', 'now wallet product']\n",
      "['product moderndesign concept', 'designing designs interiorarchitecture', 'designers prototype instadesign', 'menswear ootdmen lookoftheday', 'snobshots streetwear urbanfashion', 'fashiondiaries menwithstreetstyle', 'menstyle fashionkiller fashiongram', 'weloveatl whyiloveatl discoveratl', 'atlantacollective igersatlanta', 'atlantasnaps dji djimavic dronestagram', 'drones']\n",
      "['rareplanet shopatrareplanet India', 'indiangood kolkata calcutta', 'handpainted homedecor gifts', 'terracotta kettles product likesforfollow like4like instalike', 'like4likeback likes4tags']\n",
      "['cookie cookier baking icing flooding', 'creativeprocess treats sweet sets', 'product cute yummy flornasweets', 'bakery smallbusiness colourful bbq']\n",
      "['exklusive_shot trb_autozone', 'carsofinstagram automotivegramm', 'carstagram ptk_vehicles classiccars', 'automotivedaily visualoflife product', 'moderndesign concept designing', 'designs interiorarchitecture designers', 'prototype instadesign designporn', 'innovation incredibleindia', 'photographers_of_india indiagram', 'storiesofindia indiaclicks androidography', 'androidnesia abstract industry']\n",
      "['gear mensfashion womenfashion lids', 'product newfamily import export', 'borondo power powerlifting snapback', 'luxury holiday custom crossfit bogota', 'bogotagym bogotacolombia bogotadc', 'starkgym fitlife candy sponsor', 'followforfollow follow4follow']\n",
      "['Designer style artist', 'brand logo monogram corporate', 'identity lifestyle pure luxury product', 'posh london paris milan newyork', 'dubai sydney melbourne mumbai', 'dublin dubai cosmetics fashion art', 'artdirector creativity creative colour', 'abstract']\n",
      "['roamtheplanet travelphotography', 'visualoflife beachlife dametraveler', 'artofvisuals islandhopping', 'flashesofdelight thecreative product', 'moderndesign concept designing', 'designs interiorarchitecture designers', 'prototype instadesign designporn', 'innovation igersmiami miaexplore', 'miamiphotographer ig_miami', 'roamflorida lifestyle_miami panasonic', 'lumix panasoniclumix gh5']\n",
      "['hatsu hatsulovers design artdirection', 'setdesign fun colors veggie milk', 'alejandroherrada cinema4d', 'hatsuveggiemilk product graphicdesign', '3d box diseñocolombiano cgi fun', 'colors veggie milk']\n",
      "['repost interiors', 'white elegant simple minimal', 'poire1796 scentyourhome', 'illumensfragrance loveillumens', 'whiteblog product whiteinteriors home']\n",
      "['tvOS Apple AppleNews AppleDesign', 'WWDC WWDC18 WWDC2018', 'applewatch iphone tv 2018 ios12', 'interesting concepts iphonese', 'iphonese2 product notconfirmed', 'budget unknown cartoon high', 'instagram']\n",
      "['pmbrollchallenge Canon', 'Atomos Panasonic Movo MovoVXR10', 'Sony CanonLegriaMiniX LegriaMiniX', 'Cine Luts Canada SmallRig product', 'moderndesign concept designing', 'designs interiorarchitecture', 'magnumphotos streetlife documentary', 'exploreaustralia australiagram', 'ilovesydney canonphotos canoneos']\n",
      "['monde_informatique', 'client project', 'product projectmanager']\n",
      "['sketchaday sketching sketchbook', 'sketch drawing art illustration marker', 'rendering touch photography', 'photooftheday picture picoftheday', 'instagood instasketch like love follow', 'industrialdesign productdesign product', 'design ideation tools instilldesign']\n",
      "['grassroots development', 'kidsplayingfootball kidslearning', 'kidshavingfun manchesterfa salford', 'delasalletournament monton properclub', 'doingthingstherightway montonsports', 'u6s newgeneration']\n",
      "['frisco', 'dallas dfw texas newconstruction', 'economy development landscaping', 'design ivoteyes']\n",
      "['INME inmemovement', 'indianeedsmoreentrepreneurs', 'entrepreneurindia entrepreneur', 'entrepreneurlife entrepreneurship', 'bigthings life startups business', 'startup movement knowledge', 'development india join']\n",
      "['developer coding programmer javascript programming software php', 'webdeveloper computerscience html css webdevelopment java coder html5', 'webdev backend programmers softwaredeveloper softwareengineering python', 'webdesign frontend development css3 wordpress code webdesigner js']\n",
      "['design instaphoto inspiration', 'premierpro oreo videoediting isetups', 'aftereffects color colorcombination', 'work workspace development', 'hardwork dayout krakow programming', 'illustration photographer photo life', 'likeforlikes likeforfollow followme', 'folow4folow goodday goodweek']\n",
      "['cybersecurity programmer development', 'nerd mentalfitness']\n",
      "['android design development', 'benasdzimidas graphicdesign launcher', 'customisation material flat flatshadow', 'iconography ui ux graphicdesigner', 'graphicdesign photoshop illustrator', 'adobe color vector creative follow', 'wallpaper wallpapers androidwallpaper', 'photography minimal architecture text', 'sale']\n",
      "['html html5 webdeveloper', 'websitedesign htmlcss web', 'development developer code', 'programming']\n",
      "['beverlyhills realestate', 'losangelesrealestate gc&management standardoil standardoilrealty', 'luxuryrealestate luxurydesign', 'losangeles designer development', 'homes interiordesign hustle', 'luxurylifestyle']\n",
      "['workspace work developer', 'development developerlife apple imac', 'macbook macbookpro blackandwhite', 'coder code coding html css php', 'wordpress javascript dvlp_search linux', 'ubuntu webdeveloper webdev', 'webdevelopment dev coder coding', 'code']\n",
      "['books book motivation inspiration life', 'booklover lifebook2018 love finance', 'personality training growth', 'development musthave instadaily', 'trending sales happy knowledge', 'knowledgeispower amazon fiction scifi', 'hotsale art biography autobiography', 'selfhelp offers']\n",
      "['heavyequipment underconstruction', 'dozer realestate bluecollar D10', 'ibuildamerica earthmover caterpillar', 'demolition mining dumptruck builtforit', 'truck trucks underconstruction', 'engineering ironworker construction', 'developer dirt constructionworker', 'safety madeinamerica excavator', 'civilengineering quarry Americanmade', 'development operator']\n",
      "['marketing programming', 'development desarrollo webdesign', 'diseñoweb frontend backend apps', 'app mobileapps aplicaciones españa', 'panama argentina chile uruguay', 'digitalmarketing socialmedia', 'ecommerce tiendaonline design', 'startup emprender website paginaweb', 'followme work business empresa']\n"
     ]
    }
   ],
   "source": [
    "for words in data['Cleaned_Hashtags']:\n",
    "    a = words.split(\"#\")\n",
    "    print(a)\n",
    "    for i in a \n",
    "    "
   ]
  },
  {
   "cell_type": "code",
   "execution_count": 53,
   "metadata": {},
   "outputs": [],
   "source": [
    "def count_words(hashtag_string):\n",
    "    return len(hashtag_string.split())\n",
    "\n",
    "data['Word_Count'] = data['Cleaned_Hashtags'].apply(count_words)"
   ]
  },
  {
   "cell_type": "code",
   "execution_count": 54,
   "metadata": {},
   "outputs": [
    {
     "data": {
      "text/html": [
       "<div>\n",
       "<style scoped>\n",
       "    .dataframe tbody tr th:only-of-type {\n",
       "        vertical-align: middle;\n",
       "    }\n",
       "\n",
       "    .dataframe tbody tr th {\n",
       "        vertical-align: top;\n",
       "    }\n",
       "\n",
       "    .dataframe thead th {\n",
       "        text-align: right;\n",
       "    }\n",
       "</style>\n",
       "<table border=\"1\" class=\"dataframe\">\n",
       "  <thead>\n",
       "    <tr style=\"text-align: right;\">\n",
       "      <th></th>\n",
       "      <th>S.No</th>\n",
       "      <th>USERNAME</th>\n",
       "      <th>Caption</th>\n",
       "      <th>Followers</th>\n",
       "      <th>Hashtags</th>\n",
       "      <th>Time since posted</th>\n",
       "      <th>Likes</th>\n",
       "      <th>Cleaned_Hashtags</th>\n",
       "      <th>Word_Count</th>\n",
       "    </tr>\n",
       "  </thead>\n",
       "  <tbody>\n",
       "    <tr>\n",
       "      <th>0</th>\n",
       "      <td>1</td>\n",
       "      <td>mikequindazzi</td>\n",
       "      <td>Who are #DataScientist and what do they do? &gt;&gt;...</td>\n",
       "      <td>1600</td>\n",
       "      <td>#MachineLearning #AI #DataAnalytics #DataScien...</td>\n",
       "      <td>11</td>\n",
       "      <td>139</td>\n",
       "      <td>MachineLearning AI DataAnalytics DataScienc Da...</td>\n",
       "      <td>5</td>\n",
       "    </tr>\n",
       "    <tr>\n",
       "      <th>1</th>\n",
       "      <td>2</td>\n",
       "      <td>drgorillapaints</td>\n",
       "      <td>We all know where it’s going. We just have to ...</td>\n",
       "      <td>880</td>\n",
       "      <td>#deck .#mac #macintosh#sayhello #apple #steve...</td>\n",
       "      <td>2</td>\n",
       "      <td>23</td>\n",
       "      <td>deck mac macintosh#sayhello apple stevejobs ai...</td>\n",
       "      <td>19</td>\n",
       "    </tr>\n",
       "    <tr>\n",
       "      <th>2</th>\n",
       "      <td>3</td>\n",
       "      <td>aitrading_official</td>\n",
       "      <td>Alexander Barinov: 4 years as CFO in multinati...</td>\n",
       "      <td>255</td>\n",
       "      <td>#whoiswho #aitrading #ai #aitradingteam#instat...</td>\n",
       "      <td>2</td>\n",
       "      <td>25</td>\n",
       "      <td>whoiswho aitrading ai aitradingteam#instateam ...</td>\n",
       "      <td>20</td>\n",
       "    </tr>\n",
       "    <tr>\n",
       "      <th>3</th>\n",
       "      <td>4</td>\n",
       "      <td>opensourcedworkplace</td>\n",
       "      <td>sfad</td>\n",
       "      <td>340</td>\n",
       "      <td>#iot #cre#workplace #CDO #bigdata #technology#...</td>\n",
       "      <td>3</td>\n",
       "      <td>49</td>\n",
       "      <td>iot cre#workplace CDO bigdata technology#tech ...</td>\n",
       "      <td>20</td>\n",
       "    </tr>\n",
       "    <tr>\n",
       "      <th>4</th>\n",
       "      <td>5</td>\n",
       "      <td>crea.vision</td>\n",
       "      <td>Ever missed a call while your phone was chargi...</td>\n",
       "      <td>304</td>\n",
       "      <td>#instamachinelearning #instabigdata#instamarke...</td>\n",
       "      <td>3</td>\n",
       "      <td>30</td>\n",
       "      <td>instamachinelearning instabigdata#instamarketi...</td>\n",
       "      <td>18</td>\n",
       "    </tr>\n",
       "  </tbody>\n",
       "</table>\n",
       "</div>"
      ],
      "text/plain": [
       "   S.No              USERNAME  \\\n",
       "0     1         mikequindazzi   \n",
       "1     2       drgorillapaints   \n",
       "2     3    aitrading_official   \n",
       "3     4  opensourcedworkplace   \n",
       "4     5           crea.vision   \n",
       "\n",
       "                                             Caption  Followers  \\\n",
       "0  Who are #DataScientist and what do they do? >>...       1600   \n",
       "1  We all know where it’s going. We just have to ...        880   \n",
       "2  Alexander Barinov: 4 years as CFO in multinati...        255   \n",
       "3                                               sfad        340   \n",
       "4  Ever missed a call while your phone was chargi...        304   \n",
       "\n",
       "                                            Hashtags  Time since posted  \\\n",
       "0  #MachineLearning #AI #DataAnalytics #DataScien...                 11   \n",
       "1   #deck .#mac #macintosh#sayhello #apple #steve...                  2   \n",
       "2  #whoiswho #aitrading #ai #aitradingteam#instat...                  2   \n",
       "3  #iot #cre#workplace #CDO #bigdata #technology#...                  3   \n",
       "4  #instamachinelearning #instabigdata#instamarke...                  3   \n",
       "\n",
       "   Likes                                   Cleaned_Hashtags  Word_Count  \n",
       "0    139  MachineLearning AI DataAnalytics DataScienc Da...           5  \n",
       "1     23  deck mac macintosh#sayhello apple stevejobs ai...          19  \n",
       "2     25  whoiswho aitrading ai aitradingteam#instateam ...          20  \n",
       "3     49  iot cre#workplace CDO bigdata technology#tech ...          20  \n",
       "4     30  instamachinelearning instabigdata#instamarketi...          18  "
      ]
     },
     "execution_count": 54,
     "metadata": {},
     "output_type": "execute_result"
    }
   ],
   "source": [
    "data.head()"
   ]
  },
  {
   "cell_type": "code",
   "execution_count": 56,
   "metadata": {},
   "outputs": [
    {
     "name": "stdout",
     "output_type": "stream",
     "text": [
      "Max value of target is 349.0\n"
     ]
    }
   ],
   "source": [
    "featureVector = np.array(data[['Followers', 'Time since posted','Word_Count']], dtype = 'float32')\n",
    "targets = np.array(data['Likes'], dtype = 'float32')\n",
    "maxValLikes = max(targets)\n",
    "print('Max value of target is {}'.format(maxValLikes))"
   ]
  },
  {
   "cell_type": "code",
   "execution_count": 65,
   "metadata": {},
   "outputs": [],
   "source": [
    "X = data[['Followers', 'Time since posted','Word_Count']]\n",
    "y = data[['Likes']]"
   ]
  },
  {
   "cell_type": "code",
   "execution_count": null,
   "metadata": {},
   "outputs": [],
   "source": []
  },
  {
   "cell_type": "code",
   "execution_count": null,
   "metadata": {},
   "outputs": [],
   "source": []
  },
  {
   "cell_type": "code",
   "execution_count": 57,
   "metadata": {},
   "outputs": [],
   "source": []
  },
  {
   "cell_type": "code",
   "execution_count": 68,
   "metadata": {},
   "outputs": [],
   "source": [
    "from sklearn.preprocessing import StandardScaler\n",
    "from sklearn.model_selection import train_test_split\n",
    "\n",
    "X_train, X_test, y_train, y_test = train_test_split(X, y, test_size = 0.1, random_state = 42)\n",
    "\n",
    "scaler = StandardScaler()\n",
    "X_train = scaler.fit_transform(X_train)\n",
    "X_test = scaler.transform(X_test)"
   ]
  },
  {
   "cell_type": "code",
   "execution_count": 72,
   "metadata": {},
   "outputs": [
    {
     "data": {
      "text/plain": [
       "(90, 3)"
      ]
     },
     "execution_count": 72,
     "metadata": {},
     "output_type": "execute_result"
    }
   ],
   "source": [
    "X_train.shape"
   ]
  },
  {
   "cell_type": "code",
   "execution_count": 71,
   "metadata": {},
   "outputs": [
    {
     "data": {
      "text/plain": [
       "(10, 3)"
      ]
     },
     "execution_count": 71,
     "metadata": {},
     "output_type": "execute_result"
    }
   ],
   "source": [
    "X_test.shape"
   ]
  },
  {
   "cell_type": "code",
   "execution_count": 73,
   "metadata": {},
   "outputs": [],
   "source": [
    "from sklearn.linear_model import LinearRegression"
   ]
  },
  {
   "cell_type": "code",
   "execution_count": 74,
   "metadata": {},
   "outputs": [],
   "source": [
    "regression = LinearRegression()"
   ]
  },
  {
   "cell_type": "code",
   "execution_count": 76,
   "metadata": {},
   "outputs": [],
   "source": [
    "model=regression.fit(X_train,y_train)"
   ]
  },
  {
   "cell_type": "code",
   "execution_count": 77,
   "metadata": {},
   "outputs": [
    {
     "data": {
      "text/html": [
       "<style>#sk-container-id-2 {color: black;}#sk-container-id-2 pre{padding: 0;}#sk-container-id-2 div.sk-toggleable {background-color: white;}#sk-container-id-2 label.sk-toggleable__label {cursor: pointer;display: block;width: 100%;margin-bottom: 0;padding: 0.3em;box-sizing: border-box;text-align: center;}#sk-container-id-2 label.sk-toggleable__label-arrow:before {content: \"▸\";float: left;margin-right: 0.25em;color: #696969;}#sk-container-id-2 label.sk-toggleable__label-arrow:hover:before {color: black;}#sk-container-id-2 div.sk-estimator:hover label.sk-toggleable__label-arrow:before {color: black;}#sk-container-id-2 div.sk-toggleable__content {max-height: 0;max-width: 0;overflow: hidden;text-align: left;background-color: #f0f8ff;}#sk-container-id-2 div.sk-toggleable__content pre {margin: 0.2em;color: black;border-radius: 0.25em;background-color: #f0f8ff;}#sk-container-id-2 input.sk-toggleable__control:checked~div.sk-toggleable__content {max-height: 200px;max-width: 100%;overflow: auto;}#sk-container-id-2 input.sk-toggleable__control:checked~label.sk-toggleable__label-arrow:before {content: \"▾\";}#sk-container-id-2 div.sk-estimator input.sk-toggleable__control:checked~label.sk-toggleable__label {background-color: #d4ebff;}#sk-container-id-2 div.sk-label input.sk-toggleable__control:checked~label.sk-toggleable__label {background-color: #d4ebff;}#sk-container-id-2 input.sk-hidden--visually {border: 0;clip: rect(1px 1px 1px 1px);clip: rect(1px, 1px, 1px, 1px);height: 1px;margin: -1px;overflow: hidden;padding: 0;position: absolute;width: 1px;}#sk-container-id-2 div.sk-estimator {font-family: monospace;background-color: #f0f8ff;border: 1px dotted black;border-radius: 0.25em;box-sizing: border-box;margin-bottom: 0.5em;}#sk-container-id-2 div.sk-estimator:hover {background-color: #d4ebff;}#sk-container-id-2 div.sk-parallel-item::after {content: \"\";width: 100%;border-bottom: 1px solid gray;flex-grow: 1;}#sk-container-id-2 div.sk-label:hover label.sk-toggleable__label {background-color: #d4ebff;}#sk-container-id-2 div.sk-serial::before {content: \"\";position: absolute;border-left: 1px solid gray;box-sizing: border-box;top: 0;bottom: 0;left: 50%;z-index: 0;}#sk-container-id-2 div.sk-serial {display: flex;flex-direction: column;align-items: center;background-color: white;padding-right: 0.2em;padding-left: 0.2em;position: relative;}#sk-container-id-2 div.sk-item {position: relative;z-index: 1;}#sk-container-id-2 div.sk-parallel {display: flex;align-items: stretch;justify-content: center;background-color: white;position: relative;}#sk-container-id-2 div.sk-item::before, #sk-container-id-2 div.sk-parallel-item::before {content: \"\";position: absolute;border-left: 1px solid gray;box-sizing: border-box;top: 0;bottom: 0;left: 50%;z-index: -1;}#sk-container-id-2 div.sk-parallel-item {display: flex;flex-direction: column;z-index: 1;position: relative;background-color: white;}#sk-container-id-2 div.sk-parallel-item:first-child::after {align-self: flex-end;width: 50%;}#sk-container-id-2 div.sk-parallel-item:last-child::after {align-self: flex-start;width: 50%;}#sk-container-id-2 div.sk-parallel-item:only-child::after {width: 0;}#sk-container-id-2 div.sk-dashed-wrapped {border: 1px dashed gray;margin: 0 0.4em 0.5em 0.4em;box-sizing: border-box;padding-bottom: 0.4em;background-color: white;}#sk-container-id-2 div.sk-label label {font-family: monospace;font-weight: bold;display: inline-block;line-height: 1.2em;}#sk-container-id-2 div.sk-label-container {text-align: center;}#sk-container-id-2 div.sk-container {/* jupyter's `normalize.less` sets `[hidden] { display: none; }` but bootstrap.min.css set `[hidden] { display: none !important; }` so we also need the `!important` here to be able to override the default hidden behavior on the sphinx rendered scikit-learn.org. See: https://github.com/scikit-learn/scikit-learn/issues/21755 */display: inline-block !important;position: relative;}#sk-container-id-2 div.sk-text-repr-fallback {display: none;}</style><div id=\"sk-container-id-2\" class=\"sk-top-container\"><div class=\"sk-text-repr-fallback\"><pre>LinearRegression()</pre><b>In a Jupyter environment, please rerun this cell to show the HTML representation or trust the notebook. <br />On GitHub, the HTML representation is unable to render, please try loading this page with nbviewer.org.</b></div><div class=\"sk-container\" hidden><div class=\"sk-item\"><div class=\"sk-estimator sk-toggleable\"><input class=\"sk-toggleable__control sk-hidden--visually\" id=\"sk-estimator-id-2\" type=\"checkbox\" checked><label for=\"sk-estimator-id-2\" class=\"sk-toggleable__label sk-toggleable__label-arrow\">LinearRegression</label><div class=\"sk-toggleable__content\"><pre>LinearRegression()</pre></div></div></div></div></div>"
      ],
      "text/plain": [
       "LinearRegression()"
      ]
     },
     "execution_count": 77,
     "metadata": {},
     "output_type": "execute_result"
    }
   ],
   "source": [
    "model"
   ]
  },
  {
   "cell_type": "code",
   "execution_count": 79,
   "metadata": {},
   "outputs": [],
   "source": [
    "\n",
    "from sklearn.metrics import r2_score,mean_absolute_error,mean_squared_error\n",
    "\n",
    "def evaluate_model(true,predicted):\n",
    "    mse = mean_squared_error(true,predicted)\n",
    "    mae = mean_absolute_error(true,predicted)\n",
    "    r2_square =  r2_score(true,predicted)\n",
    "    rmse = np.sqrt(mean_squared_error(true,predicted))\n",
    "\n",
    "    return mse,mae,r2_square,rmse"
   ]
  },
  {
   "cell_type": "code",
   "execution_count": 81,
   "metadata": {},
   "outputs": [],
   "source": [
    "y_pred=model.predict(X_test)"
   ]
  },
  {
   "cell_type": "code",
   "execution_count": 83,
   "metadata": {},
   "outputs": [],
   "source": [
    "mse,mae,r2_square,rmse=evaluate_model(y_test,y_pred)"
   ]
  },
  {
   "cell_type": "markdown",
   "metadata": {},
   "source": []
  },
  {
   "cell_type": "code",
   "execution_count": 84,
   "metadata": {},
   "outputs": [
    {
     "data": {
      "text/plain": [
       "555.901166470634"
      ]
     },
     "execution_count": 84,
     "metadata": {},
     "output_type": "execute_result"
    }
   ],
   "source": [
    "mse"
   ]
  },
  {
   "cell_type": "code",
   "execution_count": 86,
   "metadata": {},
   "outputs": [
    {
     "data": {
      "text/plain": [
       "73.81776721596486"
      ]
     },
     "execution_count": 86,
     "metadata": {},
     "output_type": "execute_result"
    }
   ],
   "source": [
    "r2_square*100"
   ]
  },
  {
   "cell_type": "code",
   "execution_count": null,
   "metadata": {},
   "outputs": [],
   "source": []
  }
 ],
 "metadata": {
  "kernelspec": {
   "display_name": "base",
   "language": "python",
   "name": "python3"
  },
  "language_info": {
   "codemirror_mode": {
    "name": "ipython",
    "version": 3
   },
   "file_extension": ".py",
   "mimetype": "text/x-python",
   "name": "python",
   "nbconvert_exporter": "python",
   "pygments_lexer": "ipython3",
   "version": "3.11.4"
  }
 },
 "nbformat": 4,
 "nbformat_minor": 2
}
