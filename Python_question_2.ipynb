{
 "cells": [
  {
   "cell_type": "code",
   "execution_count": 2,
   "metadata": {},
   "outputs": [],
   "source": [
    "def checking_frequency(text):\n",
    "    words = text.split()\n",
    "    word_frequency = {}\n",
    "    for word in words:\n",
    "        word_frequency[word] = word_frequency.get(word, 0) + 1\n",
    "        \n",
    "    highest_frequency_word = max(word_frequency, key=word_frequency.get)\n",
    "    \n",
    "    return len(highest_frequency_word)    "
   ]
  },
  {
   "cell_type": "code",
   "execution_count": 3,
   "metadata": {},
   "outputs": [
    {
     "name": "stdout",
     "output_type": "stream",
     "text": [
      "Test Case 3: 6\n"
     ]
    }
   ],
   "source": [
    "string3 = \"apple apple banana orange orange orange orange\"\n",
    "output3 = highest_frequency_word_length(string3)\n",
    "print(f\"Test Case 3: {output3}\")"
   ]
  },
  {
   "cell_type": "code",
   "execution_count": 4,
   "metadata": {},
   "outputs": [
    {
     "name": "stdout",
     "output_type": "stream",
     "text": [
      "Test Case 2: 11\n"
     ]
    }
   ],
   "source": [
    "string2 = \"programming is fun and programming is creative\"\n",
    "output2 = highest_frequency_word_length(string2)\n",
    "print(f\"Test Case 2: {output2}\")"
   ]
  },
  {
   "cell_type": "code",
   "execution_count": null,
   "metadata": {},
   "outputs": [],
   "source": []
  }
 ],
 "metadata": {
  "kernelspec": {
   "display_name": "base",
   "language": "python",
   "name": "python3"
  },
  "language_info": {
   "codemirror_mode": {
    "name": "ipython",
    "version": 3
   },
   "file_extension": ".py",
   "mimetype": "text/x-python",
   "name": "python",
   "nbconvert_exporter": "python",
   "pygments_lexer": "ipython3",
   "version": "3.11.4"
  }
 },
 "nbformat": 4,
 "nbformat_minor": 2
}
